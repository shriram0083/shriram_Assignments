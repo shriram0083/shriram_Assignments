{
 "cells": [
  {
   "cell_type": "code",
   "execution_count": 1,
   "metadata": {},
   "outputs": [
    {
     "name": "stdout",
     "output_type": "stream",
     "text": [
      "120\n"
     ]
    }
   ],
   "source": [
    "#1.1\n",
    "#Write a Python Program to implement your own myreduce() function which works exactly like\n",
    "#Python's built-in function reduce()\n",
    "\n",
    "f= lambda a,b:a*b \n",
    "\n",
    "def MyReduce_Func(f, Seq):\n",
    "    for indx in range(0,len(Seq)-1):        \n",
    "        if (indx==0):\n",
    "            out=f(Seq[indx],Seq[indx+1])\n",
    "        else:\n",
    "            out=f(out,Seq[indx+1])\n",
    "    return out        \n",
    "        \n",
    "MySeq=[1,2,3,4,5]\n",
    "\n",
    "Myout=MyReduce_Func(f,MySeq)\n",
    "print(Myout)      "
   ]
  },
  {
   "cell_type": "code",
   "execution_count": 21,
   "metadata": {},
   "outputs": [
    {
     "name": "stdout",
     "output_type": "stream",
     "text": [
      "[1, 3, 5]\n"
     ]
    }
   ],
   "source": [
    "#1.2\n",
    "#Write a Python program to implement your own myfilter() function which works exactly like\n",
    "#Python's built-in function filter()\n",
    "\n",
    "f1=lambda a:a%2\n",
    "\n",
    "def MyFilter_Func(f1, Seq):\n",
    "    out=[]\n",
    "    for indx in range(0,len(Seq)):\n",
    "        if f1(Seq[indx])==True:\n",
    "            out.append(Seq[indx])\n",
    "        else:\n",
    "            continue\n",
    "    return out\n",
    "\n",
    "MySeq=[1,2,3,4,5]\n",
    "\n",
    "MyOutput=list(MyFilter_Func(f1,MySeq))\n",
    "\n",
    "#print(MyOutput)"
   ]
  },
  {
   "cell_type": "code",
   "execution_count": 21,
   "metadata": {},
   "outputs": [
    {
     "name": "stdout",
     "output_type": "stream",
     "text": [
      "aaaaaaa\n"
     ]
    }
   ],
   "source": [
    "#3.\n",
    "#Implement a function longestWord() that takes a list of words and returns the longest one.\n",
    "\n",
    "my_list=['aaa','aa','a','aaaaaaa']\n",
    "\n",
    "def longestWord(list_Seq):\n",
    "    out=[]\n",
    "    for eachItem in list_Seq:\n",
    "        for eachItem1 in list_Seq:\n",
    "            if(len(eachItem) > len(eachItem1) & len(eachItem) > len(out)):\n",
    "               out=eachItem\n",
    "            elif(len(eachItem1)>len(out)):\n",
    "                out=eachItem1\n",
    "            else:\n",
    "                out=out\n",
    "    return out\n",
    "\n",
    "my_out=longestWord(my_list)\n",
    "print(my_out)\n",
    "        "
   ]
  },
  {
   "cell_type": "code",
   "execution_count": 14,
   "metadata": {},
   "outputs": [
    {
     "name": "stdout",
     "output_type": "stream",
     "text": [
      "['x', 'xx', 'xxx', 'xxxx', 'y', 'yy', 'yyy', 'yyyy', 'z', 'zz', 'zzz', 'zzzz']\n",
      "['A', 'C', 'A', 'D', 'G', 'I', 'L', 'D']\n",
      "['x', 'y', 'z', 'xx', 'yy', 'zz', 'xx', 'yy', 'zz', 'xxx', 'yyy', 'zzz']\n",
      "[[2], [3], [4], [3], [4], [5], [4], [5], [6]]\n",
      "[[2, 3, 4, 5], [3, 4, 5, 6], [4, 5, 6, 7], [5, 6, 7, 8]]\n",
      "[((1, 1), (2, 1), (3, 1)), ((1, 2), (2, 2), (3, 2)), ((1, 3), (2, 3), (3, 3))]\n"
     ]
    }
   ],
   "source": [
    "#2.\n",
    "#Implement List comprehensions to produce the following lists.\n",
    "#Write List comprehensions to produce the following Lists\n",
    "\n",
    "#['A', 'C', 'A', 'D', 'G', 'I', ’L’, ‘ D’]\n",
    "\n",
    "my_list1=[\"x\"*y for y in range(1,5)]       \n",
    "my_list1.extend([\"y\"*y for y in range(1,5)])\n",
    "my_list1.extend([\"z\"*y for y in range(1,5)])\n",
    "print(my_list1)\n",
    "\n",
    "#['x', 'xx', 'xxx', 'xxxx', 'y', 'yy', 'yyy', 'yyyy', 'z', 'zz', 'zzz', 'zzzz']\n",
    "\n",
    "my_list2=[x for x in \"ACADGILD\"]\n",
    "print(my_list2)\n",
    "\n",
    "#['x', 'y', 'z', 'xx', 'yy', 'zz', 'xx', 'yy', 'zz', 'xxxx', 'yyyy', 'zzzz']\n",
    "\n",
    "my_list3=[x for x in \"xyz\"]\n",
    "my_list3.extend(my_list3[x]*2 for x in range(0,3),)\n",
    "my_list3.extend(my_list3[x]*2 for x in range(0,3))\n",
    "my_list3.extend(my_list3[x]*3 for x in range(0,3))\n",
    "print(my_list3)\n",
    "\n",
    "#[[2], [3], [4], [3], [4], [5], [4], [5], [6]]\n",
    "\n",
    "my_list4=[[i+j] for i in range(2,5) for j in range(0,3)]\n",
    "print(my_list4)\n",
    "\n",
    "#[[2, 3, 4, 5], [3, 4, 5, 6], [4, 5, 6, 7], [5, 6, 7, 8]]\n",
    "\n",
    "my_list5=[[2+a, 3+a, 4+a, 5+a] for a in range(0,4)]\n",
    "print(my_list5)\n",
    "\n",
    "#[(1, 1), (2, 1), (3, 1), (1, 2), (2, 2), (3, 2), (1, 3), (2, 3), (3, 3)]\n",
    "\n",
    "my_list6=[(1,y), (2,y), (3,y) for y in range(1,4)]\n",
    "print(my_list6)\n"
   ]
  },
  {
   "cell_type": "code",
   "execution_count": 33,
   "metadata": {},
   "outputs": [
    {
     "data": {
      "text/plain": [
       "'retertver'"
      ]
     },
     "execution_count": 33,
     "metadata": {},
     "output_type": "execute_result"
    }
   ],
   "source": [
    "#Implement a function longestWord() that takes a list of words and returns the longest one.\n",
    "\n",
    "listword=[\"a\", \"qqas\",\"retertver\",\"s\"]\n",
    "word=[]\n",
    "def LongestWord(inputList): \n",
    "    length_=0\n",
    "    for val in inputList:         \n",
    "        if(len(val)>length_):\n",
    "            word=str(val)\n",
    "            length_=len(val)\n",
    "        else:\n",
    "            word=word\n",
    "            length_=length_\n",
    "    return word\n",
    "LongestWord(listword)"
   ]
  },
  {
   "cell_type": "code",
   "execution_count": 35,
   "metadata": {},
   "outputs": [
    {
     "name": "stdout",
     "output_type": "stream",
     "text": [
      "[2, 3, 4]\n"
     ]
    }
   ],
   "source": [
    "#Write a Python program using function concept that maps list of words into a list of integers\n",
    "#representing the lengths of the corresponding words .\n",
    "\n",
    "# Hint: If a list [ ab,cde,erty] is passed on to the python function output should come as [2,3,4]\n",
    "\n",
    "def countLen(n):\n",
    "    return len(n)\n",
    "my_list7=[ \"ab\",\"cde\",\"erty\"]\n",
    "\n",
    "result=map(countLen,my_list7)\n",
    "print(list(result))\n"
   ]
  },
  {
   "cell_type": "code",
   "execution_count": 39,
   "metadata": {},
   "outputs": [
    {
     "data": {
      "text/plain": [
       "['qqas', 'retertver']"
      ]
     },
     "execution_count": 39,
     "metadata": {},
     "output_type": "execute_result"
    }
   ],
   "source": [
    "#1.2\n",
    "#Write a function filter_long_words() that takes a list of words and an integer n and returns the list\n",
    "#of words that are longer than n.\n",
    "\n",
    "listword=[\"a\", \"qqas\",\"retertver\",\"s\"]\n",
    "word=[]\n",
    "def LongestWord(inputList, n): \n",
    "    length_=0\n",
    "    for val in inputList:         \n",
    "        if(len(val)>n):\n",
    "            word.append(val)  \n",
    "                     \n",
    "    return word\n",
    "LongestWord(listword,2)"
   ]
  },
  {
   "cell_type": "code",
   "execution_count": 41,
   "metadata": {},
   "outputs": [
    {
     "name": "stdout",
     "output_type": "stream",
     "text": [
      "Enter a character: g\n",
      "False\n"
     ]
    }
   ],
   "source": [
    "# Write a Python function which takes a character (i.e. a string of length 1) and returns True if it is\n",
    "# a vowel, False otherwise.\n",
    "\n",
    "char = input(\"Enter a character: \")\n",
    "\n",
    "if(char=='A' or char=='a' or char=='E' or char =='e' or char=='I'\n",
    " or char=='i' or char=='O' or char=='o' or char=='U' or char=='u'):\n",
    "    print(\"True\")\n",
    "else:\n",
    "    print(\"False\")"
   ]
  },
  {
   "cell_type": "code",
   "execution_count": 133,
   "metadata": {},
   "outputs": [
    {
     "name": "stdout",
     "output_type": "stream",
     "text": [
      "140.71247279470288\n"
     ]
    }
   ],
   "source": [
    "#1.1\n",
    "#Write a Python Program(with class concepts) to find the area of the triangle using the below\n",
    "#formula.\n",
    "#area = (s*(s-a)*(s-b)*(s-c)) ** 0.5\n",
    "#Function to take the length of the sides of triangle from user should be defined in the parent\n",
    "#class and function to calculate the area should be defined in subclass.\n",
    "\n",
    "\n",
    "class mother(object):\n",
    "    def __init__(self, s, a, b, c):\n",
    "        self.s=s\n",
    "        self.a=a\n",
    "        self.b=b\n",
    "        self.c=c\n",
    "    def getS(self):\n",
    "        return self.s    \n",
    "    def getA(self):\n",
    "        return self.a\n",
    "    def getB(self):\n",
    "        return self.b\n",
    "    def getC(self):\n",
    "        return self.c\n",
    "\n",
    "class child(mother):\n",
    "    \n",
    "    def __init__(self, s, a, b, c):\n",
    "        super().__init__(s,a,b,c)\n",
    "        \n",
    "    def areaCalc(self):\n",
    "        area = (super().getS()*(super().getS()-super().getA())*(super().getS()-super().getB())*(super().getS()-super().getC())) ** 0.5\n",
    "        print(area)\n",
    "\n",
    "x = child(15,3,4,5)\n",
    "x.areaCalc()\n",
    "        "
   ]
  },
  {
   "cell_type": "code",
   "execution_count": 55,
   "metadata": {},
   "outputs": [
    {
     "name": "stdout",
     "output_type": "stream",
     "text": [
      "Marge Simpson\n",
      "Homer Simpson\n"
     ]
    }
   ],
   "source": [
    "class Person:\n",
    "\n",
    "    def __init__(self, first, last):\n",
    "        self.firstname = first\n",
    "        self.lastname = last\n",
    "\n",
    "    def __str__(self):\n",
    "        return self.firstname + \" \" + self.lastname\n",
    "\n",
    "class Employee(Person):\n",
    "\n",
    "    def __init__(self, first, last, staffnum):\n",
    "        super().__init__(first, last)\n",
    "        self.staffnumber = staffnum\n",
    "\n",
    "\n",
    "x = Person(\"Marge\", \"Simpson\")\n",
    "y = Employee(\"Homer\", \"Simpson\", \"1007\")\n",
    "\n",
    "print(x)\n",
    "print(y)"
   ]
  },
  {
   "cell_type": "code",
   "execution_count": null,
   "metadata": {},
   "outputs": [],
   "source": []
  }
 ],
 "metadata": {
  "kernelspec": {
   "display_name": "Python 3",
   "language": "python",
   "name": "python3"
  },
  "language_info": {
   "codemirror_mode": {
    "name": "ipython",
    "version": 3
   },
   "file_extension": ".py",
   "mimetype": "text/x-python",
   "name": "python",
   "nbconvert_exporter": "python",
   "pygments_lexer": "ipython3",
   "version": "3.6.5"
  }
 },
 "nbformat": 4,
 "nbformat_minor": 2
}
